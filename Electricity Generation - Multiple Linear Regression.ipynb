{
 "cells": [
  {
   "cell_type": "code",
   "execution_count": 51,
   "id": "3e3d17a4",
   "metadata": {},
   "outputs": [],
   "source": [
    "import pandas as pd\n",
    "import numpy as np\n",
    "import matplotlib.pyplot as plt\n",
    "%matplotlib inline\n",
    "import seaborn as sns\n",
    "\n",
    "from sklearn.model_selection import train_test_split\n",
    "from sklearn.linear_model import LinearRegression\n",
    "from sklearn.metrics import accuracy_score\n",
    "from sklearn.metrics import mean_squared_error\n",
    "from sklearn.metrics import r2_score"
   ]
  },
  {
   "cell_type": "markdown",
   "id": "cdac9633",
   "metadata": {},
   "source": [
    "# Questions to answer:\n",
    "\n",
    "- Can we predict the power generation based on the weather\n",
    "- Can we identify faulty or suboptimally performing equipment?\n",
    "- Can we identify the need for panel cleaning/maintenance?"
   ]
  },
  {
   "cell_type": "markdown",
   "id": "7454eaba",
   "metadata": {},
   "source": [
    "# Import Datasets\n",
    "There are 4 datasets to work with. \n",
    "- 2 Generation datasets\n",
    "- 2 Weather sensor datasets"
   ]
  },
  {
   "cell_type": "code",
   "execution_count": 2,
   "id": "725b23d4",
   "metadata": {},
   "outputs": [],
   "source": [
    "gen1 = pd.read_csv('./Plant_1_Generation_Data.csv')\n",
    "gen2 = pd.read_csv('./Plant_2_Generation_Data.csv')\n",
    "sen1 = pd.read_csv('./Plant_1_Weather_Sensor_Data.csv')\n",
    "sen2 = pd.read_csv('./Plant_2_Weather_Sensor_Data.csv')"
   ]
  },
  {
   "cell_type": "code",
   "execution_count": 3,
   "id": "5e1e89a7",
   "metadata": {},
   "outputs": [],
   "source": [
    "data_sets = [gen1, gen2, sen1, sen2]"
   ]
  },
  {
   "cell_type": "markdown",
   "id": "f0ac621d",
   "metadata": {},
   "source": [
    "# Define Utility Functions\n",
    "Let's define the following functions to use in data cleaning and preprocessing.\n",
    "We will try to use functions to keep out code neater.\n",
    "\n",
    "* Show info for each dataframe\n",
    "* Convert clomuns names to lower case\n",
    "* Convert dates to datetime format\n",
    "* Plot scatter plots\n",
    "* Plot correlation chart"
   ]
  },
  {
   "cell_type": "code",
   "execution_count": 31,
   "id": "da80d511",
   "metadata": {},
   "outputs": [],
   "source": [
    "# Show info on multiple datasets\n",
    "def show_info(dfs):\n",
    "    \"\"\"\n",
    "    Takes list of DataFrame names\n",
    "    Prints data info from list of DataFrames.\n",
    "    \"\"\"\n",
    "    for _ in dfs:\n",
    "        \n",
    "        _.info()\n",
    "        print('\\n')\n",
    "        print('\\n')\n",
    "        \n",
    "\n",
    "# Convert column headers to lower case\n",
    "def columns_lower(dfs):\n",
    "    \"\"\"\n",
    "    Takes a list of DataFrames and converts column names to lower case.\n",
    "    Returns each DataFrame with new columns.\n",
    "    \"\"\"\n",
    "    new_dfs = []\n",
    "    \n",
    "    for _ in dfs:    \n",
    "        _.columns = [i.lower() for i in _.columns]\n",
    "        new_dfs.append(_)\n",
    "        \n",
    "    return new_dfs\n",
    "\n",
    "\n",
    "# Convert date fields to datetime\n",
    "def date_time_a(old_date):\n",
    "    \"\"\"\n",
    "    Takes old date format. Returns datetime '%d-%m-%Y %H:%M'\n",
    "    \"\"\"\n",
    "    return pd.to_datetime(old_date, format='%d-%m-%Y %H:%M')\n",
    "\n",
    "\n",
    "# Convert date fields to datetime\n",
    "def date_time_b(old_date):\n",
    "    \"\"\"\n",
    "    Takes old date format. Returns datetime '%Y-%m-%d %H:%M:%S'\n",
    "    \"\"\"\n",
    "    return pd.to_datetime(old_date, format='%Y-%m-%d %H:%M:%S')\n",
    "\n",
    "\n",
    "# Plot scatterplot\n",
    "def plot_scatter(df, feat_1, feat_2):\n",
    "    plt.figure(figsize=(8,9))\n",
    "    sns.scatterplot(data=df, x=feat_1, y = feat_2)\n",
    "    plt.xlabel = f'{feat_1}'\n",
    "    plt.ylabel = f'{feat_2}'\n",
    "    plt.title('{} by {}'.format(feat_1, feat_2), fontsize=15)\n",
    "    plt.show()\n",
    "    \n",
    "\n",
    "# Plot correlation\n",
    "def plot_corr(df, method = 'pearson', annot = True, **kwargs):\n",
    "    sns.clustermap(df.corr(method), \n",
    "    vmin = -1.0, \n",
    "    vmax = 1.0, \n",
    "    cmap = 'icefire', \n",
    "    method = 'complete', \n",
    "    annot = annot, \n",
    "    **kwargs)\n",
    "\n"
   ]
  },
  {
   "cell_type": "code",
   "execution_count": 5,
   "id": "49fcccd1",
   "metadata": {},
   "outputs": [
    {
     "name": "stdout",
     "output_type": "stream",
     "text": [
      "<class 'pandas.core.frame.DataFrame'>\n",
      "RangeIndex: 68778 entries, 0 to 68777\n",
      "Data columns (total 7 columns):\n",
      " #   Column       Non-Null Count  Dtype  \n",
      "---  ------       --------------  -----  \n",
      " 0   DATE_TIME    68778 non-null  object \n",
      " 1   PLANT_ID     68778 non-null  int64  \n",
      " 2   SOURCE_KEY   68778 non-null  object \n",
      " 3   DC_POWER     68778 non-null  float64\n",
      " 4   AC_POWER     68778 non-null  float64\n",
      " 5   DAILY_YIELD  68778 non-null  float64\n",
      " 6   TOTAL_YIELD  68778 non-null  float64\n",
      "dtypes: float64(4), int64(1), object(2)\n",
      "memory usage: 3.7+ MB\n",
      "\n",
      "\n",
      "\n",
      "\n",
      "<class 'pandas.core.frame.DataFrame'>\n",
      "RangeIndex: 67698 entries, 0 to 67697\n",
      "Data columns (total 7 columns):\n",
      " #   Column       Non-Null Count  Dtype  \n",
      "---  ------       --------------  -----  \n",
      " 0   DATE_TIME    67698 non-null  object \n",
      " 1   PLANT_ID     67698 non-null  int64  \n",
      " 2   SOURCE_KEY   67698 non-null  object \n",
      " 3   DC_POWER     67698 non-null  float64\n",
      " 4   AC_POWER     67698 non-null  float64\n",
      " 5   DAILY_YIELD  67698 non-null  float64\n",
      " 6   TOTAL_YIELD  67698 non-null  float64\n",
      "dtypes: float64(4), int64(1), object(2)\n",
      "memory usage: 3.6+ MB\n",
      "\n",
      "\n",
      "\n",
      "\n",
      "<class 'pandas.core.frame.DataFrame'>\n",
      "RangeIndex: 3182 entries, 0 to 3181\n",
      "Data columns (total 6 columns):\n",
      " #   Column               Non-Null Count  Dtype  \n",
      "---  ------               --------------  -----  \n",
      " 0   DATE_TIME            3182 non-null   object \n",
      " 1   PLANT_ID             3182 non-null   int64  \n",
      " 2   SOURCE_KEY           3182 non-null   object \n",
      " 3   AMBIENT_TEMPERATURE  3182 non-null   float64\n",
      " 4   MODULE_TEMPERATURE   3182 non-null   float64\n",
      " 5   IRRADIATION          3182 non-null   float64\n",
      "dtypes: float64(3), int64(1), object(2)\n",
      "memory usage: 149.3+ KB\n",
      "\n",
      "\n",
      "\n",
      "\n",
      "<class 'pandas.core.frame.DataFrame'>\n",
      "RangeIndex: 3259 entries, 0 to 3258\n",
      "Data columns (total 6 columns):\n",
      " #   Column               Non-Null Count  Dtype  \n",
      "---  ------               --------------  -----  \n",
      " 0   DATE_TIME            3259 non-null   object \n",
      " 1   PLANT_ID             3259 non-null   int64  \n",
      " 2   SOURCE_KEY           3259 non-null   object \n",
      " 3   AMBIENT_TEMPERATURE  3259 non-null   float64\n",
      " 4   MODULE_TEMPERATURE   3259 non-null   float64\n",
      " 5   IRRADIATION          3259 non-null   float64\n",
      "dtypes: float64(3), int64(1), object(2)\n",
      "memory usage: 152.9+ KB\n",
      "\n",
      "\n",
      "\n",
      "\n"
     ]
    }
   ],
   "source": [
    "show_info(data_sets)"
   ]
  },
  {
   "cell_type": "markdown",
   "id": "abf64dd0",
   "metadata": {},
   "source": [
    "# Part 1. Data Preprocessing"
   ]
  },
  {
   "cell_type": "markdown",
   "id": "9c8c4ae3",
   "metadata": {},
   "source": [
    "Convert all columns to lower case in all datasets"
   ]
  },
  {
   "cell_type": "code",
   "execution_count": 6,
   "id": "5b796f92",
   "metadata": {},
   "outputs": [],
   "source": [
    "# Convert all columns to lower case using user-defined function\n",
    "# Reassign the original DataFrame names to the converted Datasets\n",
    "data_sets = columns_lower(data_sets)"
   ]
  },
  {
   "cell_type": "code",
   "execution_count": 7,
   "id": "cb023685",
   "metadata": {},
   "outputs": [
    {
     "data": {
      "text/html": [
       "<div>\n",
       "<style scoped>\n",
       "    .dataframe tbody tr th:only-of-type {\n",
       "        vertical-align: middle;\n",
       "    }\n",
       "\n",
       "    .dataframe tbody tr th {\n",
       "        vertical-align: top;\n",
       "    }\n",
       "\n",
       "    .dataframe thead th {\n",
       "        text-align: right;\n",
       "    }\n",
       "</style>\n",
       "<table border=\"1\" class=\"dataframe\">\n",
       "  <thead>\n",
       "    <tr style=\"text-align: right;\">\n",
       "      <th></th>\n",
       "      <th>date_time</th>\n",
       "      <th>plant_id</th>\n",
       "      <th>source_key</th>\n",
       "      <th>dc_power</th>\n",
       "      <th>ac_power</th>\n",
       "      <th>daily_yield</th>\n",
       "      <th>total_yield</th>\n",
       "    </tr>\n",
       "  </thead>\n",
       "  <tbody>\n",
       "    <tr>\n",
       "      <th>0</th>\n",
       "      <td>15-05-2020 00:00</td>\n",
       "      <td>4135001</td>\n",
       "      <td>1BY6WEcLGh8j5v7</td>\n",
       "      <td>0.0</td>\n",
       "      <td>0.0</td>\n",
       "      <td>0.0</td>\n",
       "      <td>6259559.0</td>\n",
       "    </tr>\n",
       "    <tr>\n",
       "      <th>1</th>\n",
       "      <td>15-05-2020 00:00</td>\n",
       "      <td>4135001</td>\n",
       "      <td>1IF53ai7Xc0U56Y</td>\n",
       "      <td>0.0</td>\n",
       "      <td>0.0</td>\n",
       "      <td>0.0</td>\n",
       "      <td>6183645.0</td>\n",
       "    </tr>\n",
       "    <tr>\n",
       "      <th>2</th>\n",
       "      <td>15-05-2020 00:00</td>\n",
       "      <td>4135001</td>\n",
       "      <td>3PZuoBAID5Wc2HD</td>\n",
       "      <td>0.0</td>\n",
       "      <td>0.0</td>\n",
       "      <td>0.0</td>\n",
       "      <td>6987759.0</td>\n",
       "    </tr>\n",
       "    <tr>\n",
       "      <th>3</th>\n",
       "      <td>15-05-2020 00:00</td>\n",
       "      <td>4135001</td>\n",
       "      <td>7JYdWkrLSPkdwr4</td>\n",
       "      <td>0.0</td>\n",
       "      <td>0.0</td>\n",
       "      <td>0.0</td>\n",
       "      <td>7602960.0</td>\n",
       "    </tr>\n",
       "    <tr>\n",
       "      <th>4</th>\n",
       "      <td>15-05-2020 00:00</td>\n",
       "      <td>4135001</td>\n",
       "      <td>McdE0feGgRqW7Ca</td>\n",
       "      <td>0.0</td>\n",
       "      <td>0.0</td>\n",
       "      <td>0.0</td>\n",
       "      <td>7158964.0</td>\n",
       "    </tr>\n",
       "  </tbody>\n",
       "</table>\n",
       "</div>"
      ],
      "text/plain": [
       "          date_time  plant_id       source_key  dc_power  ac_power  \\\n",
       "0  15-05-2020 00:00   4135001  1BY6WEcLGh8j5v7       0.0       0.0   \n",
       "1  15-05-2020 00:00   4135001  1IF53ai7Xc0U56Y       0.0       0.0   \n",
       "2  15-05-2020 00:00   4135001  3PZuoBAID5Wc2HD       0.0       0.0   \n",
       "3  15-05-2020 00:00   4135001  7JYdWkrLSPkdwr4       0.0       0.0   \n",
       "4  15-05-2020 00:00   4135001  McdE0feGgRqW7Ca       0.0       0.0   \n",
       "\n",
       "   daily_yield  total_yield  \n",
       "0          0.0    6259559.0  \n",
       "1          0.0    6183645.0  \n",
       "2          0.0    6987759.0  \n",
       "3          0.0    7602960.0  \n",
       "4          0.0    7158964.0  "
      ]
     },
     "execution_count": 7,
     "metadata": {},
     "output_type": "execute_result"
    }
   ],
   "source": [
    "# Now we can call each dataframe seperately\n",
    "gen1.head(5)"
   ]
  },
  {
   "cell_type": "markdown",
   "id": "7fc32751",
   "metadata": {},
   "source": [
    "Convert dates to DateTime"
   ]
  },
  {
   "cell_type": "code",
   "execution_count": 8,
   "id": "995c87f8",
   "metadata": {},
   "outputs": [],
   "source": [
    "# Apply date converter to date_time columns\n",
    "gen1['date_time'] = gen1['date_time'].apply(date_time_a).apply(date_time_b)\n",
    "gen2['date_time'] = gen2['date_time'].apply(date_time_b)\n",
    "sen1['date_time'] = sen1['date_time'].apply(date_time_b)\n",
    "sen2['date_time'] = sen2['date_time'].apply(date_time_b)"
   ]
  },
  {
   "cell_type": "markdown",
   "id": "e149961b",
   "metadata": {},
   "source": [
    "Merge Datasets"
   ]
  },
  {
   "cell_type": "code",
   "execution_count": 9,
   "id": "87817da7",
   "metadata": {},
   "outputs": [],
   "source": [
    "# Merge generation data1 and weather data1. \n",
    "# Merge generation data2 and weather data2\n",
    "df1 = pd.merge(gen1, sen1, how='inner', on='date_time')\n",
    "df2 = pd.merge(gen2, sen2, how='inner', on='date_time')\n",
    "\n",
    "# Concatenate both datasets\n",
    "df = pd.concat([df1,df2], axis=0)"
   ]
  },
  {
   "cell_type": "code",
   "execution_count": 10,
   "id": "8e64f791",
   "metadata": {},
   "outputs": [
    {
     "data": {
      "text/html": [
       "<div>\n",
       "<style scoped>\n",
       "    .dataframe tbody tr th:only-of-type {\n",
       "        vertical-align: middle;\n",
       "    }\n",
       "\n",
       "    .dataframe tbody tr th {\n",
       "        vertical-align: top;\n",
       "    }\n",
       "\n",
       "    .dataframe thead th {\n",
       "        text-align: right;\n",
       "    }\n",
       "</style>\n",
       "<table border=\"1\" class=\"dataframe\">\n",
       "  <thead>\n",
       "    <tr style=\"text-align: right;\">\n",
       "      <th></th>\n",
       "      <th>date_time</th>\n",
       "      <th>plant_id_x</th>\n",
       "      <th>source_key_x</th>\n",
       "      <th>dc_power</th>\n",
       "      <th>ac_power</th>\n",
       "      <th>daily_yield</th>\n",
       "      <th>total_yield</th>\n",
       "      <th>plant_id_y</th>\n",
       "      <th>source_key_y</th>\n",
       "      <th>ambient_temperature</th>\n",
       "      <th>module_temperature</th>\n",
       "      <th>irradiation</th>\n",
       "    </tr>\n",
       "  </thead>\n",
       "  <tbody>\n",
       "    <tr>\n",
       "      <th>0</th>\n",
       "      <td>2020-05-15</td>\n",
       "      <td>4135001</td>\n",
       "      <td>1BY6WEcLGh8j5v7</td>\n",
       "      <td>0.0</td>\n",
       "      <td>0.0</td>\n",
       "      <td>0.0</td>\n",
       "      <td>6259559.0</td>\n",
       "      <td>4135001</td>\n",
       "      <td>HmiyD2TTLFNqkNe</td>\n",
       "      <td>25.184316</td>\n",
       "      <td>22.857507</td>\n",
       "      <td>0.0</td>\n",
       "    </tr>\n",
       "    <tr>\n",
       "      <th>1</th>\n",
       "      <td>2020-05-15</td>\n",
       "      <td>4135001</td>\n",
       "      <td>1IF53ai7Xc0U56Y</td>\n",
       "      <td>0.0</td>\n",
       "      <td>0.0</td>\n",
       "      <td>0.0</td>\n",
       "      <td>6183645.0</td>\n",
       "      <td>4135001</td>\n",
       "      <td>HmiyD2TTLFNqkNe</td>\n",
       "      <td>25.184316</td>\n",
       "      <td>22.857507</td>\n",
       "      <td>0.0</td>\n",
       "    </tr>\n",
       "    <tr>\n",
       "      <th>2</th>\n",
       "      <td>2020-05-15</td>\n",
       "      <td>4135001</td>\n",
       "      <td>3PZuoBAID5Wc2HD</td>\n",
       "      <td>0.0</td>\n",
       "      <td>0.0</td>\n",
       "      <td>0.0</td>\n",
       "      <td>6987759.0</td>\n",
       "      <td>4135001</td>\n",
       "      <td>HmiyD2TTLFNqkNe</td>\n",
       "      <td>25.184316</td>\n",
       "      <td>22.857507</td>\n",
       "      <td>0.0</td>\n",
       "    </tr>\n",
       "    <tr>\n",
       "      <th>3</th>\n",
       "      <td>2020-05-15</td>\n",
       "      <td>4135001</td>\n",
       "      <td>7JYdWkrLSPkdwr4</td>\n",
       "      <td>0.0</td>\n",
       "      <td>0.0</td>\n",
       "      <td>0.0</td>\n",
       "      <td>7602960.0</td>\n",
       "      <td>4135001</td>\n",
       "      <td>HmiyD2TTLFNqkNe</td>\n",
       "      <td>25.184316</td>\n",
       "      <td>22.857507</td>\n",
       "      <td>0.0</td>\n",
       "    </tr>\n",
       "    <tr>\n",
       "      <th>4</th>\n",
       "      <td>2020-05-15</td>\n",
       "      <td>4135001</td>\n",
       "      <td>McdE0feGgRqW7Ca</td>\n",
       "      <td>0.0</td>\n",
       "      <td>0.0</td>\n",
       "      <td>0.0</td>\n",
       "      <td>7158964.0</td>\n",
       "      <td>4135001</td>\n",
       "      <td>HmiyD2TTLFNqkNe</td>\n",
       "      <td>25.184316</td>\n",
       "      <td>22.857507</td>\n",
       "      <td>0.0</td>\n",
       "    </tr>\n",
       "  </tbody>\n",
       "</table>\n",
       "</div>"
      ],
      "text/plain": [
       "   date_time  plant_id_x     source_key_x  dc_power  ac_power  daily_yield  \\\n",
       "0 2020-05-15     4135001  1BY6WEcLGh8j5v7       0.0       0.0          0.0   \n",
       "1 2020-05-15     4135001  1IF53ai7Xc0U56Y       0.0       0.0          0.0   \n",
       "2 2020-05-15     4135001  3PZuoBAID5Wc2HD       0.0       0.0          0.0   \n",
       "3 2020-05-15     4135001  7JYdWkrLSPkdwr4       0.0       0.0          0.0   \n",
       "4 2020-05-15     4135001  McdE0feGgRqW7Ca       0.0       0.0          0.0   \n",
       "\n",
       "   total_yield  plant_id_y     source_key_y  ambient_temperature  \\\n",
       "0    6259559.0     4135001  HmiyD2TTLFNqkNe            25.184316   \n",
       "1    6183645.0     4135001  HmiyD2TTLFNqkNe            25.184316   \n",
       "2    6987759.0     4135001  HmiyD2TTLFNqkNe            25.184316   \n",
       "3    7602960.0     4135001  HmiyD2TTLFNqkNe            25.184316   \n",
       "4    7158964.0     4135001  HmiyD2TTLFNqkNe            25.184316   \n",
       "\n",
       "   module_temperature  irradiation  \n",
       "0           22.857507          0.0  \n",
       "1           22.857507          0.0  \n",
       "2           22.857507          0.0  \n",
       "3           22.857507          0.0  \n",
       "4           22.857507          0.0  "
      ]
     },
     "execution_count": 10,
     "metadata": {},
     "output_type": "execute_result"
    }
   ],
   "source": [
    "# We can take a look at th resulting DataFrame\n",
    "df.head()"
   ]
  },
  {
   "cell_type": "code",
   "execution_count": 11,
   "id": "706c84a3",
   "metadata": {},
   "outputs": [
    {
     "data": {
      "text/plain": [
       "0.22176710240928543"
      ]
     },
     "execution_count": 11,
     "metadata": {},
     "output_type": "execute_result"
    }
   ],
   "source": [
    "df[df['daily_yield'] == 0].daily_yield.count() / df.daily_yield.count()"
   ]
  },
  {
   "cell_type": "code",
   "execution_count": 12,
   "id": "cab8951a",
   "metadata": {},
   "outputs": [],
   "source": [
    "# Remove days where generation is 0\n",
    "df_new = df.query(\"daily_yield != 0 & ac_power > 0\")"
   ]
  },
  {
   "cell_type": "code",
   "execution_count": 13,
   "id": "703fa294",
   "metadata": {},
   "outputs": [],
   "source": [
    "# Remove duplicated columns\n",
    "df_new2 = df_new.drop([i for i in df_new.columns if i.endswith('_y')], axis=1)"
   ]
  },
  {
   "cell_type": "code",
   "execution_count": 15,
   "id": "1250ac43",
   "metadata": {},
   "outputs": [
    {
     "data": {
      "text/html": [
       "<div>\n",
       "<style scoped>\n",
       "    .dataframe tbody tr th:only-of-type {\n",
       "        vertical-align: middle;\n",
       "    }\n",
       "\n",
       "    .dataframe tbody tr th {\n",
       "        vertical-align: top;\n",
       "    }\n",
       "\n",
       "    .dataframe thead th {\n",
       "        text-align: right;\n",
       "    }\n",
       "</style>\n",
       "<table border=\"1\" class=\"dataframe\">\n",
       "  <thead>\n",
       "    <tr style=\"text-align: right;\">\n",
       "      <th></th>\n",
       "      <th>date_time</th>\n",
       "      <th>plant_id_x</th>\n",
       "      <th>source_key_x</th>\n",
       "      <th>dc_power</th>\n",
       "      <th>ac_power</th>\n",
       "      <th>daily_yield</th>\n",
       "      <th>total_yield</th>\n",
       "      <th>ambient_temperature</th>\n",
       "      <th>module_temperature</th>\n",
       "      <th>irradiation</th>\n",
       "    </tr>\n",
       "  </thead>\n",
       "  <tbody>\n",
       "    <tr>\n",
       "      <th>531</th>\n",
       "      <td>2020-05-15 06:15:00</td>\n",
       "      <td>4135001</td>\n",
       "      <td>1BY6WEcLGh8j5v7</td>\n",
       "      <td>278.000000</td>\n",
       "      <td>26.862500</td>\n",
       "      <td>2.625000</td>\n",
       "      <td>6259561.625</td>\n",
       "      <td>24.011635</td>\n",
       "      <td>22.353459</td>\n",
       "      <td>0.022282</td>\n",
       "    </tr>\n",
       "    <tr>\n",
       "      <th>532</th>\n",
       "      <td>2020-05-15 06:15:00</td>\n",
       "      <td>4135001</td>\n",
       "      <td>1IF53ai7Xc0U56Y</td>\n",
       "      <td>310.571429</td>\n",
       "      <td>30.014286</td>\n",
       "      <td>3.000000</td>\n",
       "      <td>6183648.000</td>\n",
       "      <td>24.011635</td>\n",
       "      <td>22.353459</td>\n",
       "      <td>0.022282</td>\n",
       "    </tr>\n",
       "    <tr>\n",
       "      <th>533</th>\n",
       "      <td>2020-05-15 06:15:00</td>\n",
       "      <td>4135001</td>\n",
       "      <td>3PZuoBAID5Wc2HD</td>\n",
       "      <td>318.625000</td>\n",
       "      <td>30.775000</td>\n",
       "      <td>3.500000</td>\n",
       "      <td>6987762.500</td>\n",
       "      <td>24.011635</td>\n",
       "      <td>22.353459</td>\n",
       "      <td>0.022282</td>\n",
       "    </tr>\n",
       "    <tr>\n",
       "      <th>534</th>\n",
       "      <td>2020-05-15 06:15:00</td>\n",
       "      <td>4135001</td>\n",
       "      <td>7JYdWkrLSPkdwr4</td>\n",
       "      <td>316.250000</td>\n",
       "      <td>30.562500</td>\n",
       "      <td>3.500000</td>\n",
       "      <td>7602963.500</td>\n",
       "      <td>24.011635</td>\n",
       "      <td>22.353459</td>\n",
       "      <td>0.022282</td>\n",
       "    </tr>\n",
       "    <tr>\n",
       "      <th>535</th>\n",
       "      <td>2020-05-15 06:15:00</td>\n",
       "      <td>4135001</td>\n",
       "      <td>McdE0feGgRqW7Ca</td>\n",
       "      <td>311.428571</td>\n",
       "      <td>30.100000</td>\n",
       "      <td>3.142857</td>\n",
       "      <td>7158967.143</td>\n",
       "      <td>24.011635</td>\n",
       "      <td>22.353459</td>\n",
       "      <td>0.022282</td>\n",
       "    </tr>\n",
       "  </tbody>\n",
       "</table>\n",
       "</div>"
      ],
      "text/plain": [
       "              date_time  plant_id_x     source_key_x    dc_power   ac_power  \\\n",
       "531 2020-05-15 06:15:00     4135001  1BY6WEcLGh8j5v7  278.000000  26.862500   \n",
       "532 2020-05-15 06:15:00     4135001  1IF53ai7Xc0U56Y  310.571429  30.014286   \n",
       "533 2020-05-15 06:15:00     4135001  3PZuoBAID5Wc2HD  318.625000  30.775000   \n",
       "534 2020-05-15 06:15:00     4135001  7JYdWkrLSPkdwr4  316.250000  30.562500   \n",
       "535 2020-05-15 06:15:00     4135001  McdE0feGgRqW7Ca  311.428571  30.100000   \n",
       "\n",
       "     daily_yield  total_yield  ambient_temperature  module_temperature  \\\n",
       "531     2.625000  6259561.625            24.011635           22.353459   \n",
       "532     3.000000  6183648.000            24.011635           22.353459   \n",
       "533     3.500000  6987762.500            24.011635           22.353459   \n",
       "534     3.500000  7602963.500            24.011635           22.353459   \n",
       "535     3.142857  7158967.143            24.011635           22.353459   \n",
       "\n",
       "     irradiation  \n",
       "531     0.022282  \n",
       "532     0.022282  \n",
       "533     0.022282  \n",
       "534     0.022282  \n",
       "535     0.022282  "
      ]
     },
     "execution_count": 15,
     "metadata": {},
     "output_type": "execute_result"
    }
   ],
   "source": [
    "df_new2.head()"
   ]
  },
  {
   "cell_type": "code",
   "execution_count": 34,
   "id": "685984e9",
   "metadata": {},
   "outputs": [],
   "source": [
    "# Strip columns that end with '_x'\n",
    "df_new2.columns = [i.strip('_x') if i.endswith('_x') else i for i in df_new2.columns]"
   ]
  },
  {
   "cell_type": "code",
   "execution_count": 35,
   "id": "08268dbd",
   "metadata": {},
   "outputs": [
    {
     "data": {
      "text/html": [
       "<div>\n",
       "<style scoped>\n",
       "    .dataframe tbody tr th:only-of-type {\n",
       "        vertical-align: middle;\n",
       "    }\n",
       "\n",
       "    .dataframe tbody tr th {\n",
       "        vertical-align: top;\n",
       "    }\n",
       "\n",
       "    .dataframe thead th {\n",
       "        text-align: right;\n",
       "    }\n",
       "</style>\n",
       "<table border=\"1\" class=\"dataframe\">\n",
       "  <thead>\n",
       "    <tr style=\"text-align: right;\">\n",
       "      <th></th>\n",
       "      <th>date_time</th>\n",
       "      <th>plant_id</th>\n",
       "      <th>source_key</th>\n",
       "      <th>dc_power</th>\n",
       "      <th>ac_power</th>\n",
       "      <th>daily_yield</th>\n",
       "      <th>total_yield</th>\n",
       "      <th>ambient_temperature</th>\n",
       "      <th>module_temperature</th>\n",
       "      <th>irradiation</th>\n",
       "    </tr>\n",
       "  </thead>\n",
       "  <tbody>\n",
       "    <tr>\n",
       "      <th>531</th>\n",
       "      <td>2020-05-15 06:15:00</td>\n",
       "      <td>4135001</td>\n",
       "      <td>1BY6WEcLGh8j5v7</td>\n",
       "      <td>278.000000</td>\n",
       "      <td>26.862500</td>\n",
       "      <td>2.625000</td>\n",
       "      <td>6259561.625</td>\n",
       "      <td>24.011635</td>\n",
       "      <td>22.353459</td>\n",
       "      <td>0.022282</td>\n",
       "    </tr>\n",
       "    <tr>\n",
       "      <th>532</th>\n",
       "      <td>2020-05-15 06:15:00</td>\n",
       "      <td>4135001</td>\n",
       "      <td>1IF53ai7Xc0U56Y</td>\n",
       "      <td>310.571429</td>\n",
       "      <td>30.014286</td>\n",
       "      <td>3.000000</td>\n",
       "      <td>6183648.000</td>\n",
       "      <td>24.011635</td>\n",
       "      <td>22.353459</td>\n",
       "      <td>0.022282</td>\n",
       "    </tr>\n",
       "    <tr>\n",
       "      <th>533</th>\n",
       "      <td>2020-05-15 06:15:00</td>\n",
       "      <td>4135001</td>\n",
       "      <td>3PZuoBAID5Wc2HD</td>\n",
       "      <td>318.625000</td>\n",
       "      <td>30.775000</td>\n",
       "      <td>3.500000</td>\n",
       "      <td>6987762.500</td>\n",
       "      <td>24.011635</td>\n",
       "      <td>22.353459</td>\n",
       "      <td>0.022282</td>\n",
       "    </tr>\n",
       "    <tr>\n",
       "      <th>534</th>\n",
       "      <td>2020-05-15 06:15:00</td>\n",
       "      <td>4135001</td>\n",
       "      <td>7JYdWkrLSPkdwr4</td>\n",
       "      <td>316.250000</td>\n",
       "      <td>30.562500</td>\n",
       "      <td>3.500000</td>\n",
       "      <td>7602963.500</td>\n",
       "      <td>24.011635</td>\n",
       "      <td>22.353459</td>\n",
       "      <td>0.022282</td>\n",
       "    </tr>\n",
       "    <tr>\n",
       "      <th>535</th>\n",
       "      <td>2020-05-15 06:15:00</td>\n",
       "      <td>4135001</td>\n",
       "      <td>McdE0feGgRqW7Ca</td>\n",
       "      <td>311.428571</td>\n",
       "      <td>30.100000</td>\n",
       "      <td>3.142857</td>\n",
       "      <td>7158967.143</td>\n",
       "      <td>24.011635</td>\n",
       "      <td>22.353459</td>\n",
       "      <td>0.022282</td>\n",
       "    </tr>\n",
       "  </tbody>\n",
       "</table>\n",
       "</div>"
      ],
      "text/plain": [
       "              date_time  plant_id       source_key    dc_power   ac_power  \\\n",
       "531 2020-05-15 06:15:00   4135001  1BY6WEcLGh8j5v7  278.000000  26.862500   \n",
       "532 2020-05-15 06:15:00   4135001  1IF53ai7Xc0U56Y  310.571429  30.014286   \n",
       "533 2020-05-15 06:15:00   4135001  3PZuoBAID5Wc2HD  318.625000  30.775000   \n",
       "534 2020-05-15 06:15:00   4135001  7JYdWkrLSPkdwr4  316.250000  30.562500   \n",
       "535 2020-05-15 06:15:00   4135001  McdE0feGgRqW7Ca  311.428571  30.100000   \n",
       "\n",
       "     daily_yield  total_yield  ambient_temperature  module_temperature  \\\n",
       "531     2.625000  6259561.625            24.011635           22.353459   \n",
       "532     3.000000  6183648.000            24.011635           22.353459   \n",
       "533     3.500000  6987762.500            24.011635           22.353459   \n",
       "534     3.500000  7602963.500            24.011635           22.353459   \n",
       "535     3.142857  7158967.143            24.011635           22.353459   \n",
       "\n",
       "     irradiation  \n",
       "531     0.022282  \n",
       "532     0.022282  \n",
       "533     0.022282  \n",
       "534     0.022282  \n",
       "535     0.022282  "
      ]
     },
     "execution_count": 35,
     "metadata": {},
     "output_type": "execute_result"
    }
   ],
   "source": [
    "df_new2.head()"
   ]
  },
  {
   "cell_type": "code",
   "execution_count": 36,
   "id": "4ed82fba",
   "metadata": {},
   "outputs": [
    {
     "name": "stderr",
     "output_type": "stream",
     "text": [
      "/var/folders/tk/l8jl358x18q85155m0fs7ldh0000gn/T/ipykernel_98906/3665476256.py:57: FutureWarning: The default value of numeric_only in DataFrame.corr is deprecated. In a future version, it will default to False. Select only valid columns or specify the value of numeric_only to silence this warning.\n",
      "  sns.clustermap(df.corr(method),\n"
     ]
    },
    {
     "data": {
      "image/png": "[encoded data removed]",
      "text/plain": [
       "<Figure size 1000x1000 with 4 Axes>"
      ]
     },
     "metadata": {},
     "output_type": "display_data"
    }
   ],
   "source": [
    "# Plot a correlation chart\n",
    "plot_corr(df_new2)"
   ]
  },
  {
   "cell_type": "code",
   "execution_count": 41,
   "id": "4809afd6",
   "metadata": {},
   "outputs": [
    {
     "name": "stderr",
     "output_type": "stream",
     "text": [
      "/var/folders/tk/l8jl358x18q85155m0fs7ldh0000gn/T/ipykernel_98906/3698497241.py:2: FutureWarning: The default value of numeric_only in DataFrame.corr is deprecated. In a future version, it will default to False. Select only valid columns or specify the value of numeric_only to silence this warning.\n",
      "  df_new2.corr()\n"
     ]
    },
    {
     "data": {
      "text/html": [
       "<div>\n",
       "<style scoped>\n",
       "    .dataframe tbody tr th:only-of-type {\n",
       "        vertical-align: middle;\n",
       "    }\n",
       "\n",
       "    .dataframe tbody tr th {\n",
       "        vertical-align: top;\n",
       "    }\n",
       "\n",
       "    .dataframe thead th {\n",
       "        text-align: right;\n",
       "    }\n",
       "</style>\n",
       "<table border=\"1\" class=\"dataframe\">\n",
       "  <thead>\n",
       "    <tr style=\"text-align: right;\">\n",
       "      <th></th>\n",
       "      <th>plant_id</th>\n",
       "      <th>dc_power</th>\n",
       "      <th>ac_power</th>\n",
       "      <th>daily_yield</th>\n",
       "      <th>total_yield</th>\n",
       "      <th>ambient_temperature</th>\n",
       "      <th>module_temperature</th>\n",
       "      <th>irradiation</th>\n",
       "    </tr>\n",
       "  </thead>\n",
       "  <tbody>\n",
       "    <tr>\n",
       "      <th>plant_id</th>\n",
       "      <td>1.000000</td>\n",
       "      <td>-0.694510</td>\n",
       "      <td>-0.087329</td>\n",
       "      <td>-0.094687</td>\n",
       "      <td>0.547818</td>\n",
       "      <td>0.302396</td>\n",
       "      <td>-0.052148</td>\n",
       "      <td>-0.070830</td>\n",
       "    </tr>\n",
       "    <tr>\n",
       "      <th>dc_power</th>\n",
       "      <td>-0.694510</td>\n",
       "      <td>1.000000</td>\n",
       "      <td>0.625683</td>\n",
       "      <td>0.073941</td>\n",
       "      <td>-0.379645</td>\n",
       "      <td>0.048213</td>\n",
       "      <td>0.566954</td>\n",
       "      <td>0.605361</td>\n",
       "    </tr>\n",
       "    <tr>\n",
       "      <th>ac_power</th>\n",
       "      <td>-0.087329</td>\n",
       "      <td>0.625683</td>\n",
       "      <td>1.000000</td>\n",
       "      <td>0.061261</td>\n",
       "      <td>-0.039547</td>\n",
       "      <td>0.464106</td>\n",
       "      <td>0.890201</td>\n",
       "      <td>0.963654</td>\n",
       "    </tr>\n",
       "    <tr>\n",
       "      <th>daily_yield</th>\n",
       "      <td>-0.094687</td>\n",
       "      <td>0.073941</td>\n",
       "      <td>0.061261</td>\n",
       "      <td>1.000000</td>\n",
       "      <td>-0.052972</td>\n",
       "      <td>0.592123</td>\n",
       "      <td>0.259243</td>\n",
       "      <td>0.025543</td>\n",
       "    </tr>\n",
       "    <tr>\n",
       "      <th>total_yield</th>\n",
       "      <td>0.547818</td>\n",
       "      <td>-0.379645</td>\n",
       "      <td>-0.039547</td>\n",
       "      <td>-0.052972</td>\n",
       "      <td>1.000000</td>\n",
       "      <td>0.171343</td>\n",
       "      <td>-0.028386</td>\n",
       "      <td>-0.041515</td>\n",
       "    </tr>\n",
       "    <tr>\n",
       "      <th>ambient_temperature</th>\n",
       "      <td>0.302396</td>\n",
       "      <td>0.048213</td>\n",
       "      <td>0.464106</td>\n",
       "      <td>0.592123</td>\n",
       "      <td>0.171343</td>\n",
       "      <td>1.000000</td>\n",
       "      <td>0.711677</td>\n",
       "      <td>0.472722</td>\n",
       "    </tr>\n",
       "    <tr>\n",
       "      <th>module_temperature</th>\n",
       "      <td>-0.052148</td>\n",
       "      <td>0.566954</td>\n",
       "      <td>0.890201</td>\n",
       "      <td>0.259243</td>\n",
       "      <td>-0.028386</td>\n",
       "      <td>0.711677</td>\n",
       "      <td>1.000000</td>\n",
       "      <td>0.916068</td>\n",
       "    </tr>\n",
       "    <tr>\n",
       "      <th>irradiation</th>\n",
       "      <td>-0.070830</td>\n",
       "      <td>0.605361</td>\n",
       "      <td>0.963654</td>\n",
       "      <td>0.025543</td>\n",
       "      <td>-0.041515</td>\n",
       "      <td>0.472722</td>\n",
       "      <td>0.916068</td>\n",
       "      <td>1.000000</td>\n",
       "    </tr>\n",
       "  </tbody>\n",
       "</table>\n",
       "</div>"
      ],
      "text/plain": [
       "                     plant_id  dc_power  ac_power  daily_yield  total_yield  \\\n",
       "plant_id             1.000000 -0.694510 -0.087329    -0.094687     0.547818   \n",
       "dc_power            -0.694510  1.000000  0.625683     0.073941    -0.379645   \n",
       "ac_power            -0.087329  0.625683  1.000000     0.061261    -0.039547   \n",
       "daily_yield         -0.094687  0.073941  0.061261     1.000000    -0.052972   \n",
       "total_yield          0.547818 -0.379645 -0.039547    -0.052972     1.000000   \n",
       "ambient_temperature  0.302396  0.048213  0.464106     0.592123     0.171343   \n",
       "module_temperature  -0.052148  0.566954  0.890201     0.259243    -0.028386   \n",
       "irradiation         -0.070830  0.605361  0.963654     0.025543    -0.041515   \n",
       "\n",
       "                     ambient_temperature  module_temperature  irradiation  \n",
       "plant_id                        0.302396           -0.052148    -0.070830  \n",
       "dc_power                        0.048213            0.566954     0.605361  \n",
       "ac_power                        0.464106            0.890201     0.963654  \n",
       "daily_yield                     0.592123            0.259243     0.025543  \n",
       "total_yield                     0.171343           -0.028386    -0.041515  \n",
       "ambient_temperature             1.000000            0.711677     0.472722  \n",
       "module_temperature              0.711677            1.000000     0.916068  \n",
       "irradiation                     0.472722            0.916068     1.000000  "
      ]
     },
     "execution_count": 41,
     "metadata": {},
     "output_type": "execute_result"
    }
   ],
   "source": [
    "# Check correlation data\n",
    "df_new2.corr()"
   ]
  },
  {
   "cell_type": "code",
   "execution_count": 47,
   "id": "9627a125",
   "metadata": {},
   "outputs": [],
   "source": [
    "# Only data for times where there is power\n",
    "power = df_new2.query(\"dc_power > 0 & ac_power > 0\")"
   ]
  },
  {
   "cell_type": "code",
   "execution_count": 48,
   "id": "81d6b056",
   "metadata": {},
   "outputs": [
    {
     "name": "stderr",
     "output_type": "stream",
     "text": [
      "/var/folders/tk/l8jl358x18q85155m0fs7ldh0000gn/T/ipykernel_98906/3665476256.py:57: FutureWarning: The default value of numeric_only in DataFrame.corr is deprecated. In a future version, it will default to False. Select only valid columns or specify the value of numeric_only to silence this warning.\n",
      "  sns.clustermap(df.corr(method),\n"
     ]
    },
    {
     "data": {
      "image/png": "[encoded data removed]",
      "text/plain": [
       "<Figure size 1000x1000 with 4 Axes>"
      ]
     },
     "metadata": {},
     "output_type": "display_data"
    }
   ],
   "source": [
    "plot_corr(power)"
   ]
  },
  {
   "cell_type": "markdown",
   "id": "ba971ddc",
   "metadata": {},
   "source": [
    "# Part 2. Building and training model\n",
    "\n",
    "We can finally run a linear regression model against our data to predict power generation.\n",
    "We will run a multiple regression model as follows;\n",
    "\n",
    "* Dependent variable y = ac_power\n",
    "* Independent variables / features = ambient_temperature, module_temperature, irradiation, plant_id"
   ]
  },
  {
   "cell_type": "markdown",
   "id": "77fba046",
   "metadata": {},
   "source": [
    "### Getting inputs and outputs"
   ]
  },
  {
   "cell_type": "code",
   "execution_count": 54,
   "id": "1a6c1a95",
   "metadata": {},
   "outputs": [],
   "source": [
    "X = df_new2[['ambient_temperature', 'module_temperature', 'irradiation',\n",
    "    'plant_id']].values"
   ]
  },
  {
   "cell_type": "code",
   "execution_count": 55,
   "id": "d26fa9db",
   "metadata": {},
   "outputs": [],
   "source": [
    "y = df_new2['ac_power'].values"
   ]
  },
  {
   "cell_type": "markdown",
   "id": "d4d6937e",
   "metadata": {},
   "source": [
    "### Creating training and test sets"
   ]
  },
  {
   "cell_type": "code",
   "execution_count": 56,
   "id": "71614875",
   "metadata": {},
   "outputs": [],
   "source": [
    "X_train, X_test, y_train, y_test = train_test_split(X, y, test_size = 0.2, random_state = 0)"
   ]
  },
  {
   "cell_type": "code",
   "execution_count": 61,
   "id": "018bae2b",
   "metadata": {},
   "outputs": [
    {
     "data": {
      "text/plain": [
       "array([[3.32896522e+01, 5.31209666e+01, 9.22336359e-01, 4.13600100e+06],\n",
       "       [2.21557047e+01, 2.27330180e+01, 1.61645104e-01, 4.13500100e+06],\n",
       "       [2.63948039e+01, 3.48848720e+01, 4.37950496e-01, 4.13600100e+06],\n",
       "       ...,\n",
       "       [3.52493804e+01, 5.61734161e+01, 7.76220931e-01, 4.13600100e+06],\n",
       "       [3.68891539e+01, 4.30381529e+01, 2.37599299e-01, 4.13600100e+06],\n",
       "       [2.72275748e+01, 2.93475173e+01, 3.63448681e-01, 4.13600100e+06]])"
      ]
     },
     "execution_count": 61,
     "metadata": {},
     "output_type": "execute_result"
    }
   ],
   "source": [
    "X_train"
   ]
  },
  {
   "cell_type": "markdown",
   "id": "52689410",
   "metadata": {},
   "source": [
    "### Building and training the model "
   ]
  },
  {
   "cell_type": "code",
   "execution_count": 65,
   "id": "2ab1113c",
   "metadata": {},
   "outputs": [
    {
     "data": {
      "text/html": [
       "<style>#sk-container-id-1 {color: black;}#sk-container-id-1 pre{padding: 0;}#sk-container-id-1 div.sk-toggleable {background-color: white;}#sk-container-id-1 label.sk-toggleable__label {cursor: pointer;display: block;width: 100%;margin-bottom: 0;padding: 0.3em;box-sizing: border-box;text-align: center;}#sk-container-id-1 label.sk-toggleable__label-arrow:before {content: \"▸\";float: left;margin-right: 0.25em;color: #696969;}#sk-container-id-1 label.sk-toggleable__label-arrow:hover:before {color: black;}#sk-container-id-1 div.sk-estimator:hover label.sk-toggleable__label-arrow:before {color: black;}#sk-container-id-1 div.sk-toggleable__content {max-height: 0;max-width: 0;overflow: hidden;text-align: left;background-color: #f0f8ff;}#sk-container-id-1 div.sk-toggleable__content pre {margin: 0.2em;color: black;border-radius: 0.25em;background-color: #f0f8ff;}#sk-container-id-1 input.sk-toggleable__control:checked~div.sk-toggleable__content {max-height: 200px;max-width: 100%;overflow: auto;}#sk-container-id-1 input.sk-toggleable__control:checked~label.sk-toggleable__label-arrow:before {content: \"▾\";}#sk-container-id-1 div.sk-estimator input.sk-toggleable__control:checked~label.sk-toggleable__label {background-color: #d4ebff;}#sk-container-id-1 div.sk-label input.sk-toggleable__control:checked~label.sk-toggleable__label {background-color: #d4ebff;}#sk-container-id-1 input.sk-hidden--visually {border: 0;clip: rect(1px 1px 1px 1px);clip: rect(1px, 1px, 1px, 1px);height: 1px;margin: -1px;overflow: hidden;padding: 0;position: absolute;width: 1px;}#sk-container-id-1 div.sk-estimator {font-family: monospace;background-color: #f0f8ff;border: 1px dotted black;border-radius: 0.25em;box-sizing: border-box;margin-bottom: 0.5em;}#sk-container-id-1 div.sk-estimator:hover {background-color: #d4ebff;}#sk-container-id-1 div.sk-parallel-item::after {content: \"\";width: 100%;border-bottom: 1px solid gray;flex-grow: 1;}#sk-container-id-1 div.sk-label:hover label.sk-toggleable__label {background-color: #d4ebff;}#sk-container-id-1 div.sk-serial::before {content: \"\";position: absolute;border-left: 1px solid gray;box-sizing: border-box;top: 0;bottom: 0;left: 50%;z-index: 0;}#sk-container-id-1 div.sk-serial {display: flex;flex-direction: column;align-items: center;background-color: white;padding-right: 0.2em;padding-left: 0.2em;position: relative;}#sk-container-id-1 div.sk-item {position: relative;z-index: 1;}#sk-container-id-1 div.sk-parallel {display: flex;align-items: stretch;justify-content: center;background-color: white;position: relative;}#sk-container-id-1 div.sk-item::before, #sk-container-id-1 div.sk-parallel-item::before {content: \"\";position: absolute;border-left: 1px solid gray;box-sizing: border-box;top: 0;bottom: 0;left: 50%;z-index: -1;}#sk-container-id-1 div.sk-parallel-item {display: flex;flex-direction: column;z-index: 1;position: relative;background-color: white;}#sk-container-id-1 div.sk-parallel-item:first-child::after {align-self: flex-end;width: 50%;}#sk-container-id-1 div.sk-parallel-item:last-child::after {align-self: flex-start;width: 50%;}#sk-container-id-1 div.sk-parallel-item:only-child::after {width: 0;}#sk-container-id-1 div.sk-dashed-wrapped {border: 1px dashed gray;margin: 0 0.4em 0.5em 0.4em;box-sizing: border-box;padding-bottom: 0.4em;background-color: white;}#sk-container-id-1 div.sk-label label {font-family: monospace;font-weight: bold;display: inline-block;line-height: 1.2em;}#sk-container-id-1 div.sk-label-container {text-align: center;}#sk-container-id-1 div.sk-container {/* jupyter's `normalize.less` sets `[hidden] { display: none; }` but bootstrap.min.css set `[hidden] { display: none !important; }` so we also need the `!important` here to be able to override the default hidden behavior on the sphinx rendered scikit-learn.org. See: https://github.com/scikit-learn/scikit-learn/issues/21755 */display: inline-block !important;position: relative;}#sk-container-id-1 div.sk-text-repr-fallback {display: none;}</style><div id=\"sk-container-id-1\" class=\"sk-top-container\"><div class=\"sk-text-repr-fallback\"><pre>LinearRegression()</pre><b>In a Jupyter environment, please rerun this cell to show the HTML representation or trust the notebook. <br />On GitHub, the HTML representation is unable to render, please try loading this page with nbviewer.org.</b></div><div class=\"sk-container\" hidden><div class=\"sk-item\"><div class=\"sk-estimator sk-toggleable\"><input class=\"sk-toggleable__control sk-hidden--visually\" id=\"sk-estimator-id-1\" type=\"checkbox\" checked><label for=\"sk-estimator-id-1\" class=\"sk-toggleable__label sk-toggleable__label-arrow\">LinearRegression</label><div class=\"sk-toggleable__content\"><pre>LinearRegression()</pre></div></div></div></div></div>"
      ],
      "text/plain": [
       "LinearRegression()"
      ]
     },
     "execution_count": 65,
     "metadata": {},
     "output_type": "execute_result"
    }
   ],
   "source": [
    "model = LinearRegression()\n",
    "model.fit(X_train, y_train)"
   ]
  },
  {
   "cell_type": "markdown",
   "id": "95300acb",
   "metadata": {},
   "source": [
    "### Inference\n",
    "\n",
    "Making the predictions of the data points in the test set\n"
   ]
  },
  {
   "cell_type": "code",
   "execution_count": 66,
   "id": "1faf1989",
   "metadata": {},
   "outputs": [],
   "source": [
    "y_pred = model.predict(X_test)"
   ]
  },
  {
   "cell_type": "code",
   "execution_count": 67,
   "id": "c714af6d",
   "metadata": {},
   "outputs": [
    {
     "data": {
      "text/plain": [
       "array([ 357.02002341,  238.41572748, 1052.19138158, ...,  107.16026916,\n",
       "        122.48724126, 1170.79486153])"
      ]
     },
     "execution_count": 67,
     "metadata": {},
     "output_type": "execute_result"
    }
   ],
   "source": [
    "y_pred"
   ]
  },
  {
   "cell_type": "markdown",
   "id": "4a56ff93",
   "metadata": {},
   "source": [
    "### Evaluating the model\n",
    "\n",
    "### R-Squared"
   ]
  },
  {
   "cell_type": "code",
   "execution_count": 68,
   "id": "8e843bcd",
   "metadata": {},
   "outputs": [],
   "source": [
    "r2 = r2_score(y_test, y_pred)"
   ]
  },
  {
   "cell_type": "code",
   "execution_count": 69,
   "id": "53b32917",
   "metadata": {},
   "outputs": [
    {
     "data": {
      "text/plain": [
       "0.9252062345895968"
      ]
     },
     "execution_count": 69,
     "metadata": {},
     "output_type": "execute_result"
    }
   ],
   "source": [
    "r2"
   ]
  },
  {
   "cell_type": "markdown",
   "id": "a8bad0f1",
   "metadata": {},
   "source": [
    "As we can see above, our model has an R-Squared value of 93%\n",
    "\n",
    "### Adjusted  R2"
   ]
  },
  {
   "cell_type": "code",
   "execution_count": 70,
   "id": "55452c0c",
   "metadata": {},
   "outputs": [],
   "source": [
    "k = X_test.shape[1]\n",
    "n = X_test.shape[0]\n",
    "adj_r2 = 1-(1-r2)*(n-1)/(n-k-1)"
   ]
  },
  {
   "cell_type": "code",
   "execution_count": 71,
   "id": "45210106",
   "metadata": {},
   "outputs": [
    {
     "data": {
      "text/plain": [
       "0.9251844240580198"
      ]
     },
     "execution_count": 71,
     "metadata": {},
     "output_type": "execute_result"
    }
   ],
   "source": [
    "adj_r2"
   ]
  },
  {
   "cell_type": "code",
   "execution_count": null,
   "id": "102f0329",
   "metadata": {},
   "outputs": [],
   "source": []
  }
 ],
 "metadata": {
  "kernelspec": {
   "display_name": "Python 3 (ipykernel)",
   "language": "python",
   "name": "python3"
  },
  "language_info": {
   "codemirror_mode": {
    "name": "ipython",
    "version": 3
   },
   "file_extension": ".py",
   "mimetype": "text/x-python",
   "name": "python",
   "nbconvert_exporter": "python",
   "pygments_lexer": "ipython3",
   "version": "3.9.17"
  }
 },
 "nbformat": 4,
 "nbformat_minor": 5
}
